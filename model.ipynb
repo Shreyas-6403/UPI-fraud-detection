{
 "cells": [
  {
   "cell_type": "code",
   "execution_count": 10,
   "metadata": {},
   "outputs": [
    {
     "name": "stdout",
     "output_type": "stream",
     "text": [
      "Dataset Columns: ['transaction id', 'timestamp', 'sender name', 'sender upi id', 'receiver name', 'receiver upi id', 'amount (inr)', 'status']\n",
      "⚠️ Warning: 'sender_upi' column missing in dataset!\n",
      "⚠️ Warning: 'receiver_upi' column missing in dataset!\n",
      "✅ Encoder created for: status\n",
      "✅ Model and encoders saved successfully as fraud_detection_model.pkl and label_encoders.pkl!\n"
     ]
    }
   ],
   "source": [
    "import pandas as pd\n",
    "import numpy as np\n",
    "import joblib\n",
    "from sklearn.model_selection import train_test_split\n",
    "from sklearn.ensemble import RandomForestClassifier\n",
    "from sklearn.preprocessing import LabelEncoder\n",
    "\n",
    "# Load dataset\n",
    "data = pd.read_csv('transactions.csv')\n",
    "\n",
    "# Normalize column names: Remove spaces and convert to lowercase\n",
    "data.columns = data.columns.str.strip().str.lower()\n",
    "\n",
    "# Print actual column names for debugging\n",
    "print(\"Dataset Columns:\", data.columns.tolist())\n",
    "\n",
    "# Rename columns to match expected feature names\n",
    "data.rename(columns={\n",
    "    'amount (inr)': 'amount', \n",
    "    'status': 'status',\n",
    "    'sender upi id': 'sender_upi',\n",
    "    'receiver upi id': 'receiver_upi'\n",
    "}, inplace=True)\n",
    "\n",
    "# Extract additional features from timestamp if available\n",
    "if 'timestamp' in data.columns:\n",
    "    data['timestamp'] = pd.to_datetime(data['timestamp'])\n",
    "    data['hour'] = data['timestamp'].dt.hour\n",
    "    data['day'] = data['timestamp'].dt.day\n",
    "    data['month'] = data['timestamp'].dt.month\n",
    "else:\n",
    "    data['hour'], data['day'], data['month'] = 0, 0, 0  # Placeholder values if timestamp is missing\n",
    "\n",
    "# Define categorical columns\n",
    "categorical_columns = [\"sender_upi\", \"receiver_upi\", \"status\"]\n",
    "\n",
    "# Initialize encoders dictionary\n",
    "encoders = {}\n",
    "\n",
    "# Encode categorical features\n",
    "for col in categorical_columns:\n",
    "    if col in data.columns:\n",
    "        encoders[col] = LabelEncoder()\n",
    "        data[col] = encoders[col].fit_transform(data[col])\n",
    "        print(f\"✅ Encoder created for: {col}\")\n",
    "    else:\n",
    "        print(f\"⚠️ Warning: '{col}' column missing in dataset!\")\n",
    "\n",
    "# Selecting relevant features\n",
    "features = ['amount', 'hour', 'day', 'month'] + [col for col in ['status', 'sender_upi', 'receiver_upi'] if col in data.columns]\n",
    "X = data[features]\n",
    "y = np.random.randint(0, 2, size=len(data))  # Placeholder for fraud labels since not in dataset\n",
    "\n",
    "# Splitting the dataset\n",
    "X_train, X_test, y_train, y_test = train_test_split(X, y, test_size=0.2, random_state=42)\n",
    "\n",
    "# Train model\n",
    "model = RandomForestClassifier(n_estimators=100, random_state=42)\n",
    "model.fit(X_train, y_train)\n",
    "\n",
    "# Save model and encoders\n",
    "joblib.dump(model, 'fraud_detection_model.pkl')\n",
    "joblib.dump(encoders, 'label_encoders.pkl')\n",
    "\n",
    "print(\"✅ Model and encoders saved successfully as fraud_detection_model.pkl and label_encoders.pkl!\")"
   ]
  }
 ],
 "metadata": {
  "kernelspec": {
   "display_name": "Python 3",
   "language": "python",
   "name": "python3"
  },
  "language_info": {
   "codemirror_mode": {
    "name": "ipython",
    "version": 3
   },
   "file_extension": ".py",
   "mimetype": "text/x-python",
   "name": "python",
   "nbconvert_exporter": "python",
   "pygments_lexer": "ipython3",
   "version": "3.9.6"
  }
 },
 "nbformat": 4,
 "nbformat_minor": 4
}
