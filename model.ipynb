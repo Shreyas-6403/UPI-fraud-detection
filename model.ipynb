import pandas as pd
import numpy as np
import joblib
from sklearn.model_selection import train_test_split
from sklearn.ensemble import RandomForestClassifier
from sklearn.preprocessing import LabelEncoder

# Load dataset
data = pd.read_csv('transactions.csv')

# Normalize column names: Remove spaces and convert to lowercase
data.columns = data.columns.str.strip().str.lower()

# Print actual column names for debugging
print("Dataset Columns:", data.columns.tolist())

# Rename columns to match expected feature names
data.rename(columns={'amount (inr)': 'amount', 'status': 'status'}, inplace=True)

# Extract additional features from timestamp if available
if 'timestamp' in data.columns:
    data['timestamp'] = pd.to_datetime(data['timestamp'])
    data['hour'] = data['timestamp'].dt.hour
    data['day'] = data['timestamp'].dt.day
    data['month'] = data['timestamp'].dt.month
else:
    data['hour'], data['day'], data['month'] = 0, 0, 0  # Placeholder values if timestamp is missing

# Encode categorical variables
label_enc = LabelEncoder()
if 'status' in data.columns:
    data['status'] = label_enc.fit_transform(data['status'])

# Selecting relevant features
features = ['amount', 'hour', 'day', 'month', 'status']
X = data[features]
y = np.random.randint(0, 2, size=len(data))  # Placeholder for fraud labels since not in dataset

# Splitting the dataset
X_train, X_test, y_train, y_test = train_test_split(X, y, test_size=0.2, random_state=42)

# Train model
model = RandomForestClassifier(n_estimators=100, random_state=42)
model.fit(X_train, y_train)

# Save model
joblib.dump(model, 'fraud_detection_model.pkl')
joblib.dump(label_enc, 'label_encoders.pkl')

print("Model training complete. Saved as fraud_detection_model.pkl")
